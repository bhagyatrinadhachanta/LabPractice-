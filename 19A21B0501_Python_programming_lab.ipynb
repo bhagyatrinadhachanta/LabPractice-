{
  "nbformat": 4,
  "nbformat_minor": 0,
  "metadata": {
    "colab": {
      "name": "19A21B0501-Python programming lab",
      "provenance": [],
      "collapsed_sections": [],
      "authorship_tag": "ABX9TyNEPV2dTxmBEP1iZmJF8zHi",
      "include_colab_link": true
    },
    "kernelspec": {
      "name": "python3",
      "display_name": "Python 3"
    },
    "language_info": {
      "name": "python"
    }
  },
  "cells": [
    {
      "cell_type": "markdown",
      "metadata": {
        "id": "view-in-github",
        "colab_type": "text"
      },
      "source": [
        "<a href=\"https://colab.research.google.com/github/bhagyatrinadhachanta/LabPractice-/blob/main/19A21B0501_Python_programming_lab.ipynb\" target=\"_parent\"><img src=\"https://colab.research.google.com/assets/colab-badge.svg\" alt=\"Open In Colab\"/></a>"
      ]
    },
    {
      "cell_type": "code",
      "metadata": {
        "id": "bRSXfTiC0eU8"
      },
      "source": [
        ""
      ],
      "execution_count": null,
      "outputs": []
    },
    {
      "cell_type": "markdown",
      "metadata": {
        "id": "QZGwrHYD1QWv"
      },
      "source": [
        "###**EXERCISE-1** Basics\n",
        "#####**a) Running instructions in Interactive interpreter and a Python Script**"
      ]
    },
    {
      "cell_type": "code",
      "metadata": {
        "id": "vgK7i3vo2Qm_"
      },
      "source": [
        "print(\"hello world\")"
      ],
      "execution_count": null,
      "outputs": []
    },
    {
      "cell_type": "markdown",
      "metadata": {
        "id": "A5JramLTbWCP"
      },
      "source": [
        "**b) Write a program to purposefully raise Indentation Error and Correct it**"
      ]
    },
    {
      "cell_type": "code",
      "metadata": {
        "colab": {
          "base_uri": "https://localhost:8080/",
          "height": 132
        },
        "id": "OrscQbjhbUeO",
        "outputId": "83769139-99ca-4a6b-ab3a-924a39998a64"
      },
      "source": [
        "#error producing code\n",
        "if True:\n",
        "print(\"True\")\n",
        "else:\n",
        "  print(\"False\")\n"
      ],
      "execution_count": null,
      "outputs": [
        {
          "output_type": "error",
          "ename": "IndentationError",
          "evalue": "ignored",
          "traceback": [
            "\u001b[0;36m  File \u001b[0;32m\"<ipython-input-1-33358e3da06c>\"\u001b[0;36m, line \u001b[0;32m3\u001b[0m\n\u001b[0;31m    print(\"True\")\u001b[0m\n\u001b[0m        ^\u001b[0m\n\u001b[0;31mIndentationError\u001b[0m\u001b[0;31m:\u001b[0m expected an indented block\n"
          ]
        }
      ]
    },
    {
      "cell_type": "code",
      "metadata": {
        "id": "OToUj9YPcDTy"
      },
      "source": [
        "#corrected code\n",
        "if True:\n",
        "  print(\"True\")\n",
        "else:\n",
        "  print(\"False\")"
      ],
      "execution_count": null,
      "outputs": []
    },
    {
      "cell_type": "markdown",
      "metadata": {
        "id": "cAmDBNoXdGql"
      },
      "source": [
        "###**EXERCISE-2** Operations\n",
        "**a) Write a program to compute distance between two points taking input from the user(PythagoreanTheorem)**"
      ]
    },
    {
      "cell_type": "code",
      "metadata": {
        "id": "IRq6pCq6er-9"
      },
      "source": [
        "import math\n",
        "x1=int(input(\"enter x1 value:\"))\n",
        "x2=int(input(\"enter x2 value:\"))\n",
        "y1=int(input(\"enter y1 value:\"))\n",
        "y2=int(input(\"enter y2 value:\"))\n",
        "d=math.sqrt(((x2-x1)**2)+((y2-y1)**2))\n",
        "print(\"distance of two points:\",d)\n",
        "print(\"distance of two points:\",d,sep='\\t')\n",
        "print(\"distance of two points (%d,%d) and (%d,%d) is %f\"%(x1,y1,x2,y2,d))\n",
        "print(\"distance of two points ({},{})and ({},{}) is {}\".format(x1,y1,x2,y2,d))\n"
      ],
      "execution_count": null,
      "outputs": []
    },
    {
      "cell_type": "markdown",
      "metadata": {
        "id": "4KiSFI_ufZAV"
      },
      "source": [
        "**b) Write a program add.py that takes 2 numbers as command line arguments and prints its sum**"
      ]
    },
    {
      "cell_type": "code",
      "metadata": {
        "id": "4lLIYi7OgCoZ",
        "colab": {
          "base_uri": "https://localhost:8080/",
          "height": 244
        },
        "outputId": "db3f59e5-6952-4485-d747-cbef974e5874"
      },
      "source": [
        "import sys\n",
        "x=int(sys.argv[1])\n",
        "y=int(sys.argv[2])\n",
        "sum=x+y\n",
        "print(\"The addition is :\",sum)\n"
      ],
      "execution_count": null,
      "outputs": [
        {
          "output_type": "error",
          "ename": "ValueError",
          "evalue": "ignored",
          "traceback": [
            "\u001b[0;31m---------------------------------------------------------------------------\u001b[0m",
            "\u001b[0;31mValueError\u001b[0m                                Traceback (most recent call last)",
            "\u001b[0;32m<ipython-input-2-bb7f8e7f5297>\u001b[0m in \u001b[0;36m<module>\u001b[0;34m()\u001b[0m\n\u001b[1;32m      1\u001b[0m \u001b[0;32mimport\u001b[0m \u001b[0msys\u001b[0m\u001b[0;34m\u001b[0m\u001b[0;34m\u001b[0m\u001b[0m\n\u001b[0;32m----> 2\u001b[0;31m \u001b[0mx\u001b[0m\u001b[0;34m=\u001b[0m\u001b[0mint\u001b[0m\u001b[0;34m(\u001b[0m\u001b[0msys\u001b[0m\u001b[0;34m.\u001b[0m\u001b[0margv\u001b[0m\u001b[0;34m[\u001b[0m\u001b[0;36m1\u001b[0m\u001b[0;34m]\u001b[0m\u001b[0;34m)\u001b[0m\u001b[0;34m\u001b[0m\u001b[0;34m\u001b[0m\u001b[0m\n\u001b[0m\u001b[1;32m      3\u001b[0m \u001b[0my\u001b[0m\u001b[0;34m=\u001b[0m\u001b[0mint\u001b[0m\u001b[0;34m(\u001b[0m\u001b[0msys\u001b[0m\u001b[0;34m.\u001b[0m\u001b[0margv\u001b[0m\u001b[0;34m[\u001b[0m\u001b[0;36m2\u001b[0m\u001b[0;34m]\u001b[0m\u001b[0;34m)\u001b[0m\u001b[0;34m\u001b[0m\u001b[0;34m\u001b[0m\u001b[0m\n\u001b[1;32m      4\u001b[0m \u001b[0msum\u001b[0m\u001b[0;34m=\u001b[0m\u001b[0mx\u001b[0m\u001b[0;34m+\u001b[0m\u001b[0my\u001b[0m\u001b[0;34m\u001b[0m\u001b[0;34m\u001b[0m\u001b[0m\n\u001b[1;32m      5\u001b[0m \u001b[0mprint\u001b[0m\u001b[0;34m(\u001b[0m\u001b[0;34m\"The addition is :\"\u001b[0m\u001b[0;34m,\u001b[0m\u001b[0msum\u001b[0m\u001b[0;34m)\u001b[0m\u001b[0;34m\u001b[0m\u001b[0;34m\u001b[0m\u001b[0m\n",
            "\u001b[0;31mValueError\u001b[0m: invalid literal for int() with base 10: '-f'"
          ]
        }
      ]
    },
    {
      "cell_type": "markdown",
      "metadata": {
        "id": "UW3bVFWIvVms"
      },
      "source": [
        "###**Exercise-3** control flow\n",
        "**a) Write a Program for checking whether the given number is an even number or no**"
      ]
    },
    {
      "cell_type": "code",
      "metadata": {
        "id": "3sMaeUbKv8lb"
      },
      "source": [
        "n=int(input(\"enter number\"))\n",
        "if n%2==0:\n",
        "    print(\"given number %d is even\"%n)\n",
        "\n",
        "else:\n",
        "    print(\"given number is odd\")\n"
      ],
      "execution_count": null,
      "outputs": []
    },
    {
      "cell_type": "markdown",
      "metadata": {
        "id": "oA8fCkdM3rY2"
      },
      "source": [
        "###**b) Using a for loop, write a program that prints out the decimal equivalents of 1/2, 1/3, 1/4, . . .1/10**"
      ]
    },
    {
      "cell_type": "code",
      "metadata": {
        "id": "MeDxtt2L4Uaw"
      },
      "source": [
        "n=int(input(\"enter a number\"))\n",
        "for i in range(2,n):\n",
        "   \n",
        "    print(\"1/\"+str(i)+\"=\",str(1/i),sep=' ')\n"
      ],
      "execution_count": null,
      "outputs": []
    },
    {
      "cell_type": "markdown",
      "metadata": {
        "id": "DspDQ1O441mm"
      },
      "source": [
        "###**c) Write a program using a for loop that loops over a sequence. What is sequence** \n"
      ]
    },
    {
      "cell_type": "code",
      "metadata": {
        "id": "CgJCVN2a49yK"
      },
      "source": [
        "arr=[10,\"ty\",-7,'c',12.5,True,5,'r',\"do\"]\n",
        "print(\"given array is:\",arr)\n",
        "for i in arr:\n",
        "  print(i)"
      ],
      "execution_count": null,
      "outputs": []
    },
    {
      "cell_type": "markdown",
      "metadata": {
        "id": "NZuYVVe-Cq8j"
      },
      "source": [
        "###**d)Write a program using a while loop that asks the user for a number, and prints a countdownfrom that number to zero.**"
      ]
    },
    {
      "cell_type": "code",
      "metadata": {
        "id": "BculsW88C7yt"
      },
      "source": [
        "n=int(input(\"Enter value of n\"))\n",
        "while n>=0:\n",
        "  print(n)\n",
        "  n-=1\n",
        "  "
      ],
      "execution_count": null,
      "outputs": []
    },
    {
      "cell_type": "markdown",
      "metadata": {
        "id": "GzuFJaIqToMw"
      },
      "source": [
        "##**Exercise-4** Control flow continued\n",
        " **a) Find the sum of all the primes below two million. Each new term in the Fibonacci sequence is \n",
        "generated by adding the previous two terms. Bystarting with 1 and 2, the first 10 terms will be:\n",
        "1, 2, 3, 5, 8, 13, 21, 34, 55, 89, ...**\n"
      ]
    },
    {
      "cell_type": "code",
      "metadata": {
        "id": "iXn6VdkyUmt9"
      },
      "source": [
        "n= int(input(\"enter an ending number:\"))\n",
        "st=\"\"\n",
        "sum=0\n",
        "for i in range(2,n):\n",
        "   state=True\n",
        "for j in range(2,i):\n",
        "  if(i%j)==0:\n",
        "    state = False\n",
        "    break;\n",
        "if state == True:\n",
        "  st+=\"\"+str(i)\n",
        "  sum+=i\n",
        "\n",
        "\n",
        "print(\"prime numbers:\")\n",
        "print(st)\n",
        "print(\"sum of the prime numbers: \",sum)"
      ],
      "execution_count": null,
      "outputs": []
    },
    {
      "cell_type": "code",
      "metadata": {
        "id": "XqCNeWfP2ExX"
      },
      "source": [
        "n=int(input(\"enter value of n:\"))\n",
        "a=0\n",
        "b=1\n",
        "c=a+b\n",
        "st=\"\"\n",
        "count=0;\n",
        "sum=0\n",
        "while c<n:\n",
        "    st+=\"\"+str(c)\n",
        "    sum+=c\n",
        "    a=b\n",
        "    b=c\n",
        "    c=a+b\n",
        "    count+=1\n",
        "    print(st)\n",
        "    print(\"sum of fibonacci series is:\",sum)"
      ],
      "execution_count": null,
      "outputs": []
    },
    {
      "cell_type": "markdown",
      "metadata": {
        "id": "jiU920RO31Ag"
      },
      "source": [
        "**b) By considering the terms in the Fibonacci sequence whose values do not exceed four million,find \n",
        "the sum of the even-valued terms.**"
      ]
    },
    {
      "cell_type": "code",
      "metadata": {
        "id": "3EeIS5yEGoZc"
      },
      "source": [
        "n=int(input(\"Enter a Value of n:\"))\n",
        "a=0\n",
        "b=1\n",
        "c=a+b\n",
        "sum=0\n",
        "print(\"Even numbers in fibonacci series:\",end=\"\")\n",
        "while c<n:\n",
        "  if c%2==0:\n",
        "    print(c,end='\\t')\n",
        "    sum+=c\n",
        "  a=b\n",
        "  b=c\n",
        "  c=a+b\n",
        "print(\"\\n sum of fibonacci series is:\",sum)\n"
      ],
      "execution_count": null,
      "outputs": []
    },
    {
      "cell_type": "markdown",
      "metadata": {
        "id": "3sWkqa6ER243"
      },
      "source": [
        "###**Exercise-5**\n",
        "**a) Write a program to count the numbers of characters in the string and store them in adictionary data \n",
        "structure**\n"
      ]
    },
    {
      "cell_type": "code",
      "metadata": {
        "id": "46nRk6aPSLro"
      },
      "source": [
        "name=input(\"enter a name\")\n",
        "dic={}\n",
        "\n",
        "for ch in name:\n",
        "    keys=dic.keys()\n",
        "\n",
        "    if (ch in keys):\n",
        "        dic[ch]=dic[ch]+1\n",
        "    else:\n",
        "        dic[ch]=1\n",
        "print(\"dictionary is\",dic)"
      ],
      "execution_count": null,
      "outputs": []
    },
    {
      "cell_type": "markdown",
      "metadata": {
        "id": "TYX_D_B4TrY3"
      },
      "source": [
        "**b) Write a program to use split and join methods in the string and trace a birthday with adictionary \n",
        "data structure.**\n"
      ]
    },
    {
      "cell_type": "code",
      "metadata": {
        "id": "io-bdKEOT3Yu"
      },
      "source": [
        "dob={\"anitha\":\"4-12-2000\",\"anupama\":\"23-10-2001\"}\n",
        "name=input(\"which person dob you want:\")\n",
        "l=name.split()\n",
        "birth=\"\"\n",
        "\n",
        "for i in l:\n",
        "   if i in dob.keys():\n",
        "       pers=i\n",
        "print(\"\".join([pers,\"  birthday is \",dob[pers]]))\n",
        "\n"
      ],
      "execution_count": null,
      "outputs": []
    },
    {
      "cell_type": "markdown",
      "metadata": {
        "id": "i1ugtvCYV4xD"
      },
      "source": [
        "###**Exercise-6**\n",
        "**a) Write a program combinelists that combines these lists into a dictionary.**\n"
      ]
    },
    {
      "cell_type": "code",
      "metadata": {
        "id": "hDee8rk4WrGo",
        "colab": {
          "base_uri": "https://localhost:8080/"
        },
        "outputId": "8652a685-5789-447b-a16e-5c5e78914150"
      },
      "source": [
        "subj=[\"DAA\",\"OS\",\"DBMS\",\"P&S\",\"PPL\",\"SE\"]\n",
        "marks=[98,87,85,89,99,80]\n",
        "print(subj)\n",
        "print(marks)\n",
        "\n",
        "dic=dict(zip(subj,marks))\n",
        "print(dic)\n"
      ],
      "execution_count": null,
      "outputs": [
        {
          "output_type": "stream",
          "text": [
            "['DAA', 'OS', 'DBMS', 'P&S', 'PPL', 'SE']\n",
            "[98, 87, 85, 89, 99, 80]\n",
            "{'DAA': 98, 'OS': 87, 'DBMS': 85, 'P&S': 89, 'PPL': 99, 'SE': 80}\n"
          ],
          "name": "stdout"
        }
      ]
    },
    {
      "cell_type": "markdown",
      "metadata": {
        "id": "IipJDiZuXkde"
      },
      "source": [
        "**b) Write a program to count frequency of characters in a given file. Can you use characterfrequency to \n",
        "tell whether the given file is a Python program file, C program file or a text file?**"
      ]
    },
    {
      "cell_type": "code",
      "metadata": {
        "id": "BB0XdA_5XxgL"
      },
      "source": [
        "f=open(\"abc.txt\",\"w\")\n",
        "f.write(\"welcome to python programming\")\n",
        "f.close()\n",
        "filetypes=['.py','.c','.txt']\n",
        "fn=input(\"enter the file name\")\n",
        "f=open(fn,\"r\")\n",
        "count=dict()\n",
        "for ft in filetypes:\n",
        "  if(ft in fn):\n",
        "     if(ft=='.py'):\n",
        "       print(\"python file\")\n",
        "     elif(ft=='.c'):\n",
        "         print(\"c file\")\n",
        "     elif(ft=='.txt'):\n",
        "         print(\"text file\")\n",
        "for line in f:\n",
        "     for ch in line:\n",
        "         if ch in count:\n",
        "             count[ch]=count[ch]+1\n",
        "         else:\n",
        "             count[ch]=1\n",
        "print(count)\n",
        "f.close()"
      ],
      "execution_count": null,
      "outputs": []
    },
    {
      "cell_type": "markdown",
      "metadata": {
        "id": "d5rYsCwRuHw3"
      },
      "source": [
        "###**Exercise-7**\n",
        "**a) Write a program to print each line of a file in reverse order**"
      ]
    },
    {
      "cell_type": "code",
      "metadata": {
        "id": "VbM7EauU1t7m"
      },
      "source": [
        "f=open(\"abc.txt\",\"w\")\n",
        "f.write(\"welcome to python programming\")\n",
        "f.close()\n",
        "obj=open(\"abc.txt\",\"r\")\n",
        "if obj:\n",
        "    st=obj.read()\n",
        "    print(\"file content is: \\n\",st)\n",
        "obj.close()\n",
        "\n",
        "print()\n",
        "lines=st.split('\\n')\n",
        "for ln in lines:\n",
        "    i=len(ln)-1\n",
        "    while(i>=0):\n",
        "       print(ln[i],end='')\n",
        "       i=i-1\n",
        "    print()\n"
      ],
      "execution_count": null,
      "outputs": []
    },
    {
      "cell_type": "markdown",
      "metadata": {
        "id": "Iy8jq8rf1vSb"
      },
      "source": [
        "**b) Write a program to compute the number of characters, words and lines in a file**"
      ]
    },
    {
      "cell_type": "code",
      "metadata": {
        "id": "0rrIBjjwucGS"
      },
      "source": [
        "f=open(\"abc.txt\",\"w\")\n",
        "f.write(\"welcome to python programming\")\n",
        "f.close()\n",
        "obj=open(\"abc.txt\",\"r\")\n",
        "nc=nw=nl=0\n",
        "print(\"File content is :\\n\")\n",
        "for line in obj:\n",
        "    ln=line.strip(\"\\n\")\n",
        "    print(ln)\n",
        "    words=ln.split()\n",
        "    print(words)\n",
        "    nl+=1\n",
        "    nw+=len(words)\n",
        "    nc+=len(line)\n",
        "obj.close()\n",
        "print(\"Number of characterers in a file is:\",nc)\n",
        "print(\"Number of words in a file is:\",nw)\n",
        "print(\"number of lines in a file is:\",nl)\n"
      ],
      "execution_count": null,
      "outputs": []
    },
    {
      "cell_type": "markdown",
      "metadata": {
        "id": "poFuY5e416-O"
      },
      "source": [
        "###**Exercise-8**\n",
        "**a) Write a function ball collide that takes two balls as parameters and computes if they arecolliding. \n",
        "Your function should return a Boolean representing whether or not the balls arecolliding.\n",
        "Hint: Represent a ball on a plane as a tuple of (x, y, r), r being the radius\n",
        "If (distance between two balls centers) <= (sum of their radii) then (they are colliding)**"
      ]
    },
    {
      "cell_type": "code",
      "metadata": {
        "id": "dHF-3wS62JeX"
      },
      "source": [
        "import math\n",
        "\n",
        "def collide(ball_tup1,ball_tup2):\n",
        "    x1,y1,r1=ball_tup1\n",
        "    x2,y2,r2=ball_tup2\n",
        "    print(\"Ball-1=\",ball_tup1)\n",
        "    print(x1,y1,r1,sep=' ')\n",
        "    print(\"Ball-2+\",ball_tup2)\n",
        "    print(x2,y2,r2,sep=' ')\n",
        "    d=math.sqrt((x2-x1)**2+(y2-y1)**2)\n",
        "    print(\"centriod distance of two balls:\",d)\n",
        "    if d<=r1+r2:\n",
        "        print(\"Balls are collide..!\")\n",
        "    else:\n",
        "        print(\"Balls are not collide..!\")\n",
        "b1=(-2,-4,-3)\n",
        "b2=(4,6,3)\n",
        "collide(b1,b2)"
      ],
      "execution_count": null,
      "outputs": []
    },
    {
      "cell_type": "markdown",
      "metadata": {
        "id": "ihEQCqwPJE41"
      },
      "source": [
        "**b) Find mean, median, mode for the given set of numbers in a list.**"
      ]
    },
    {
      "cell_type": "code",
      "metadata": {
        "id": "DbHyPvlQJOSh"
      },
      "source": [
        "def list_mean(num_list):\n",
        "   return sum(num_list)/len(num_list)\n",
        "\n",
        "def list_median(num_list):\n",
        "    num_list.sort()\n",
        "    n=len(num_list)\n",
        "    mid=n//2\n",
        "    if(n%2==1):\n",
        "        return num_list(mid)\n",
        "    else:\n",
        "        mid\n",
        "        return (num_list[mid-1]+num_list[mid]/2)\n",
        "lst=[1,1,2,2,2,3,4,5,3,3]\n",
        "list_mean(lst)\n",
        "print(\"Mean of the given list is:\",list_mean(lst))\n",
        "print(\"Median of the given list is:\",list_median(lst))\n",
        "\n"
      ],
      "execution_count": null,
      "outputs": []
    },
    {
      "cell_type": "markdown",
      "metadata": {
        "id": "ZVey7uwfMMmZ"
      },
      "source": [
        "###**Exercise - 9 Functions** \n",
        "**a) Write a function nearly equal to test whether two strings are nearly equal. Two strings a and bare \n",
        "nearly equal when a can be generated by a single mutation on b.**"
      ]
    },
    {
      "cell_type": "code",
      "metadata": {
        "id": "wRqL2vyBMn-C"
      },
      "source": [
        "def nearly_eq(str1,str2):\n",
        "    count=0\n",
        "    i=j=0\n",
        "    while(i<len(str1)and j<len(str2)):\n",
        "        if(str1[i]!=str2[j]):\n",
        "            count+=1\n",
        "            if(len(str1)>len(str2)):\n",
        "                i+=1\n",
        "            elif(len(str1)==len(str2)):\n",
        "                pass\n",
        "            else:\n",
        "                i-=1\n",
        "        if(count>1):\n",
        "            return False\n",
        "        i+=1\n",
        "        j+=1\n",
        "    if(count<2):\n",
        "        return True\n",
        "s1=input(\"enter string1:  \")\n",
        "s2=input(\"enter string2:  \")\n",
        "bln=nearly_eq(s1,s2)\n",
        "if(bln):\n",
        "    print(\"Strings are nearly equal.\")\n",
        "else:\n",
        "    print(\"string are not equal\")\n"
      ],
      "execution_count": null,
      "outputs": []
    },
    {
      "cell_type": "markdown",
      "metadata": {
        "id": "V3puj6gJP5H-"
      },
      "source": [
        "**b) Write a function dup to find all duplicates in the list.**"
      ]
    },
    {
      "cell_type": "code",
      "metadata": {
        "id": "-QmT1qEUQAuv"
      },
      "source": [
        "def dups(numlist):\n",
        "    temp={}\n",
        "    for i in numlist:\n",
        "        count=numlist.count(i)\n",
        "        if count>1 :\n",
        "            temp[i]=\"duplicate\"\n",
        "    print(\"duplicate element from given list : \",temp)\n",
        "lst=[1,2,6,9,2,3,5,2,1,6]\n",
        "print(\"Given elements are: \",lst)\n",
        "dups(lst)"
      ],
      "execution_count": null,
      "outputs": []
    },
    {
      "cell_type": "markdown",
      "metadata": {
        "id": "hsLzDv0sRlv2"
      },
      "source": [
        "**c) Write a function unique to find all the unique elements of a list.**\n"
      ]
    },
    {
      "cell_type": "code",
      "metadata": {
        "id": "FzeC6X5qRt5O"
      },
      "source": [
        "def uniq_list(num_list):\n",
        "    num_list.sort()\n",
        "    temp=[]\n",
        "\n",
        "    i=0\n",
        "    while i<len(num_list):\n",
        "        temp.append(num_list.count(num_list[i]))\n",
        "        i+=1\n",
        "    dic=dict(zip(num_list,temp))\n",
        "    uq={k for (k,v)in dic.items() if v==1}\n",
        "    return uq\n",
        "lst=[1,2,1,4,5,6,2,4,9]\n",
        "\n",
        "print(\"Given list is:\",lst)\n",
        "print(\"uniq list is: \",uniq_list(lst))\n",
        "        \n",
        "    \n"
      ],
      "execution_count": null,
      "outputs": []
    },
    {
      "cell_type": "markdown",
      "metadata": {
        "id": "hV2d_iKoTWOu"
      },
      "source": [
        "\n",
        "**Exercise - 10 - Functions**\n",
        "\n",
        "**a) Write a function cumulative product to compute cumulative product of a list of number**"
      ]
    },
    {
      "cell_type": "code",
      "metadata": {
        "id": "yvO47phdTn4f"
      },
      "source": [
        "def cum_prod(numlist):\n",
        "    prod=1\n",
        "    temp=[]\n",
        "    for i in numlist:\n",
        "        prod*=i\n",
        "        temp.append(prod)\n",
        "    return temp\n",
        "\n",
        "lst=[1,2,4,5,3]\n",
        "print(\"Given list is: \",lst)\n",
        "print(\"Cummulative product is : \",cum_prod(lst))\n"
      ],
      "execution_count": null,
      "outputs": []
    },
    {
      "cell_type": "markdown",
      "metadata": {
        "id": "mNiKgvMuUwYg"
      },
      "source": [
        "**b) Write a function reverse to reverse a list. Without using the reverse function.**"
      ]
    },
    {
      "cell_type": "code",
      "metadata": {
        "id": "haRk9bWOU3oi"
      },
      "source": [
        "def reverse_list(numlist):\n",
        "  i=0\n",
        "  j=len(numlist)-1\n",
        "  while(i<=j):\n",
        "      temp=numlist[i]\n",
        "      numlist[i]=numlist[j]\n",
        "      numlist[j]=temp\n",
        "      j-=1\n",
        "      i+=1\n",
        "  return  numlist\n",
        "lst=[1,2,3,4]\n",
        "print(\"given list is: \",lst)\n",
        "print(\"After reverse function:\",reverse_list(lst))\n",
        "print(\"After list is: \",lst)\n"
      ],
      "execution_count": null,
      "outputs": []
    },
    {
      "cell_type": "markdown",
      "metadata": {
        "id": "0904LK2jWXJ9"
      },
      "source": [
        "**c) Write function to compute gcd, lcm of two numbers. Each function shouldn’t exceed one line**"
      ]
    },
    {
      "cell_type": "code",
      "metadata": {
        "id": "7OCjpu5xWe9E"
      },
      "source": [
        "gcd=lambda a,b:a if b==0 else gcd(a,a%b)\n",
        "lcm=lambda a,b: (a*b)/gcd(a,b)\n",
        "\n",
        "x=4\n",
        "y=24\n",
        "print(\"GCD=\",gcd(x,y))\n",
        "print(\"lcm=\",lcm(x,y))"
      ],
      "execution_count": null,
      "outputs": []
    },
    {
      "cell_type": "markdown",
      "metadata": {
        "id": "9NZLZ0CMXV9T"
      },
      "source": [
        "###**Exercise 11 - Multi-D Lists**\n",
        "**a) Write a program that defines a matrix and prints**"
      ]
    },
    {
      "cell_type": "code",
      "metadata": {
        "id": "nfM-wGICXlaD"
      },
      "source": [
        "matA=[[]]\n",
        "rows=int(input(\"enter row  size of the matrix\"))\n",
        "cols=int(input(\"enter column  size of the matrix\"))\n",
        "\n",
        "matA=[[int(input(\"enter [%d,%d] value:\"%(i,j)))for j in range(cols)] for i in range(rows)]\n",
        "\n",
        "for i in range(rows):\n",
        "      for j in range(cols):\n",
        "          print(matA[i][j],end='\\t')\n",
        "      print()\n"
      ],
      "execution_count": null,
      "outputs": []
    },
    {
      "cell_type": "markdown",
      "metadata": {
        "id": "X6tUU9IIsYcf"
      },
      "source": [
        "**b) Write a program to perform addition of two square matrices**"
      ]
    },
    {
      "cell_type": "code",
      "metadata": {
        "id": "GcT2fkdisfOi"
      },
      "source": [
        "def matdisp(mat,r,c):\n",
        "    for i in range(r):\n",
        "        for j in range(c):\n",
        "            print(mat[i][j],end='\\t')\n",
        "        print()\n",
        "matA=[[]]\n",
        "matB=[[]]\n",
        "matsum=[[]]\n",
        "rows=int(input(\"enter row  size of the matrix\"))\n",
        "cols=int(input(\"enter column  size of the matrix\"))\n",
        "\n",
        "if rows==cols:\n",
        "     matA=[[int(input(\"enter [%d,%d] value:\"%(i,j)))for j in range(cols)] for i in range(rows)]\n",
        "     matB=[[int(input(\"enter [%d,%d] value:\"%(i,j)))for j in range(cols)] for i in range(rows)]\n",
        "else:\n",
        "    print(\"Matrix Addition is not possible\")\n",
        "\n",
        "matsum=[[matA[i][j]+matB[i][j] for j in range(cols)]for  i in range(rows)]\n",
        "\n",
        "print(\"matrix-A is: \")\n",
        "matdisp(matA,rows,cols)\n",
        "print(\"Matrix-B is: \")\n",
        "matdisp(matA,rows,cols)\n",
        "print(\"addition of matrices is: \")\n",
        "matdisp(matsum,rows,cols)"
      ],
      "execution_count": null,
      "outputs": []
    },
    {
      "cell_type": "markdown",
      "metadata": {
        "id": "7ED9cavqv-pK"
      },
      "source": [
        "**c) Write a program to perform multiplication of two square matrices**"
      ]
    },
    {
      "cell_type": "code",
      "metadata": {
        "id": "7Garbl0FwFkZ"
      },
      "source": [
        "def matdisp(mat,r,c):\n",
        "    for i in range(r):\n",
        "        for j in range(c):\n",
        "            print(mat[i][j],end='\\t')\n",
        "        print()\n",
        "matA=[[]]\n",
        "matB=[[]]\n",
        "matsum=[[]]\n",
        "rows=int(input(\"enter row  size of the matrix\"))\n",
        "cols=int(input(\"enter column  size of the matrix\"))\n",
        "\n",
        "if rows==cols:\n",
        "     matA=[[int(input(\"enter [%d,%d] value:\"%(i,j)))for j in range(cols)] for i in range(rows)]\n",
        "     matB=[[int(input(\"enter [%d,%d] value:\"%(i,j)))for j in range(cols)] for i in range(rows)]\n",
        "else:\n",
        "    print(\"Matrix Addition is not possible\")\n",
        "\n",
        "matmul=[[0 for j in range(cols)] for i in range(rows)]\n",
        "for i in range(rows):\n",
        "    for j in range(cols):\n",
        "        for k in range(cols):\n",
        "            matmul[i][j]=matmul[i][j]+matA[i][k]*matB[k][j]\n",
        "\n",
        "print(\"matrix-A is: \")\n",
        "matdisp(matA,rows,cols)\n",
        "print(\"Matrix-B is: \")\n",
        "matdisp(matA,rows,cols)\n",
        "print(\"multiplication of matrices is: \")\n",
        "matdisp(matmul,rows,cols)"
      ],
      "execution_count": null,
      "outputs": []
    },
    {
      "cell_type": "markdown",
      "metadata": {
        "id": "QDum2_k5jkDl"
      },
      "source": [
        "###**Exercise - 13 OOP**\n",
        "**a) Class variables and instance variable and illustration of the self-variable**\n",
        "\n",
        "**i) Robot**"
      ]
    },
    {
      "cell_type": "code",
      "metadata": {
        "id": "YhTl6WL1j7Rk"
      },
      "source": [
        "class Robot:\n",
        "  what=\"Machine\"\n",
        "  name=\"Chitti\"\n",
        "  version=1.0\n",
        "  speed=\"1THZ\"\n",
        "  memory=\"1ZB\"\n",
        "\n",
        "  def update(upd):\n",
        "   upd.version=2.0\n",
        "   upd.speed=\"2THz\"\n",
        "   upd.memory=\"2ZB\"\n",
        "\n",
        "  def disp(self):\n",
        "    print(\"my self is a \",robj.what)\n",
        "    print(\"myname is a \",robj.name)\n",
        "    print(\"version: \",robj.version)\n",
        "    print(\"speed: \",robj.speed)\n",
        "    print(\"memory: \",robj.memory)\n",
        "\n",
        "robj=Robot()\n",
        "robj.disp()\n",
        "\n",
        "print(\"------update------\")\n",
        "robj.update()\n",
        "robj.disp()\n"
      ],
      "execution_count": null,
      "outputs": []
    },
    {
      "cell_type": "markdown",
      "metadata": {
        "id": "1K59L8lgmydS"
      },
      "source": [
        "**b)ATM MAchine**"
      ]
    },
    {
      "cell_type": "code",
      "metadata": {
        "id": "AUDpjUSWm7M4"
      },
      "source": [
        "class ATM:\n",
        "  def __init__(self):\n",
        "    self.balance=0\n",
        "    \n",
        "  def enquire(self):\n",
        "    print(\"balance: \",self.balance)\n",
        "\n",
        "  def deposit(self):\n",
        "       amount=int(input(\"enter the deposit amount:\"))\n",
        "       self.balance+=amount\n",
        "       self.enquire()\n",
        "\n",
        "  def withdraw(self):\n",
        "      amount=int(input(\"enter the withdrawn amount:\"))\n",
        "      if self.balance<amount:\n",
        "         print(\"insufficient balance....\")\n",
        "      else:\n",
        "         self.balance-=amount\n",
        "         self.enquire()\n",
        "\n",
        "aobj=ATM()\n",
        "while(True):\n",
        "  print(\"*****MENU*****\")\n",
        "  print(\"1.deposit\")\n",
        "  print(\"2.withdraw\")\n",
        "  print(\"3.Balance\")\n",
        "  print(\"0 .EXIT\")\n",
        "  ch=int(input(\"enter your choice\"))\n",
        "  if ch==0:\n",
        "    break\n",
        "  elif ch==1:\n",
        "    aobj.deposit()\n",
        "  elif ch==2:\n",
        "    aobj.withdraw()\n",
        "  elif ch==3:\n",
        "    aobj.enquire()\n",
        "  else:\n",
        "    print(\"Invalid choice\")\n",
        "    pass"
      ],
      "execution_count": null,
      "outputs": []
    },
    {
      "cell_type": "markdown",
      "metadata": {
        "id": "BBlfjn8Nwnln"
      },
      "source": [
        "###**Exercise - 14 GUI, Graphics**\n",
        "**1. Write a GUI for an Expression Calculator using tk**"
      ]
    },
    {
      "cell_type": "markdown",
      "metadata": {
        "id": "PV-dAbDpzT2G"
      },
      "source": [
        "**2. Write a program to implement the following figures using turtle**"
      ]
    },
    {
      "cell_type": "code",
      "metadata": {
        "id": "o5f5M6MUxLGE"
      },
      "source": [
        "import turtle\n",
        "c=[\"red\",\"green\",\"blue\"]\n",
        "i=0\n",
        "turtle.pensize(5)\n",
        "\n",
        "for angle in range(0,360,30):\n",
        "  if i>2:\n",
        "    i=0\n",
        "  turtle.color(c[i])\n",
        "  turtle.seth(angle)\n",
        "  turtle.circle(50)\n",
        "  i+=1"
      ],
      "execution_count": null,
      "outputs": []
    },
    {
      "cell_type": "code",
      "metadata": {
        "id": "3pbLXjTJzcWj"
      },
      "source": [
        "import turtle\n",
        "turtle.pensize(1)\n",
        "\n",
        "for i in range(36):\n",
        "  for j in range(4):\n",
        "      turtle.forward(70)\n",
        "      turtle.left(90)\n",
        "      turtle.left(10)\n"
      ],
      "execution_count": null,
      "outputs": []
    },
    {
      "cell_type": "markdown",
      "metadata": {
        "id": "yi8I6kIjQn7U"
      },
      "source": [
        "###**Exercise - 15 - Testing**\n",
        "**a) Write a test-case to check the function even numbers which return True on passing a list of all even \n",
        "number**"
      ]
    },
    {
      "cell_type": "code",
      "metadata": {
        "id": "IZh3YL-2RIM3"
      },
      "source": [
        "def evenNo(num):\n",
        "    state=True\n",
        "    \n",
        "    for i in num:\n",
        "      if i%2==1:\n",
        "       state=False\n",
        "       break\n",
        "    return state\n",
        "\n",
        "numbers=[]\n",
        "for i in range(0,2):\n",
        "  numbers.append(int(input(\"enter a value\")))\n",
        "  print(evenNo(numbers))"
      ],
      "execution_count": null,
      "outputs": []
    }
  ]
}